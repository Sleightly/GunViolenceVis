{
 "cells": [
  {
   "cell_type": "markdown",
   "metadata": {},
   "source": [
    "# Gun Violence in the U.S. from 2013-2018\n",
    "\n",
    "##### Team: Andres Baez, Edward Chen\n",
    "\n",
    "## Project Overview:\n",
    "***\n",
    "- Reseach question, hypothesis\n",
    "  - What do we hope to achieve?\n",
    "- Datasets and Background & Prior Work\n",
    "  - Brief summary of our datasets\n",
    "  - Previous work that have been done using these datasets\n",
    "- Data Cleaning and Analysis\n",
    "  - Gun Violence Data \n",
    "- Discussion and Moving Forward\n",
    "- Conclusion and Implications\n",
    "  - What further questions we may have\n",
    "  - How to improve our study\n"
   ]
  },
  {
   "cell_type": "markdown",
   "metadata": {},
   "source": [
    "## Research Question\n",
    "***\n",
    "Short Answer:\n",
    "\n",
    "Long Answer:"
   ]
  },
  {
   "cell_type": "markdown",
   "metadata": {},
   "source": [
    "## Hypothesis\n",
    "***\n",
    "\n",
    "## Datasets:\n",
    "***\n",
    "\n",
    "Dataset Name:\n",
    "\n",
    "Link to dataset:\n",
    "\n",
    "Description: \n",
    "\n",
    "\n",
    "Dataset Name:\n",
    "\n",
    "Link to dataset:\n",
    "\n",
    "Description: \n",
    "\n",
    "\n",
    "Dataset Name:\n",
    "\n",
    "Link to dataset:\n",
    "\n",
    "Description: \n",
    "\n",
    "## Background and Prior Work\n",
    "***\n",
    "\n",
    "## Methods\n",
    "***\n",
    "Data Cleaning:\n",
    "\n",
    "Data Analysis:\n",
    "\n",
    "What to report:"
   ]
  },
  {
   "cell_type": "markdown",
   "metadata": {},
   "source": [
    "#### Data Cleaning and Analysis per Dataset\n",
    "***"
   ]
  },
  {
   "cell_type": "code",
   "execution_count": null,
   "metadata": {},
   "outputs": [],
   "source": [
    "#import packages\n",
    "import numpy as np\n",
    "import pandas as pd\n",
    "import matplotlib.pyplot as plt\n",
    "from plotly import __version__\n",
    "print ('plotly version: ', __version__) # requires version >= 1.9.0\n",
    "from plotly.offline import init_notebook_mode, iplot, plot\n",
    "import plotly.plotly as py\n",
    "\n",
    "init_notebook_mode(connected=True)\n",
    "\n",
    "import folium\n",
    "from folium.plugins import HeatMap"
   ]
  },
  {
   "cell_type": "code",
   "execution_count": null,
   "metadata": {},
   "outputs": [],
   "source": [
    "#Read in data\n",
    "df = pd.read_csv('gv_data.csv')\n",
    "print(df.describe())\n",
    "print(df.head())"
   ]
  },
  {
   "cell_type": "code",
   "execution_count": null,
   "metadata": {},
   "outputs": [],
   "source": [
    "df['n_casualties'] =  df.apply(lambda row: row.n_killed + row.n_injured, axis=1)\n",
    "print(df.describe())"
   ]
  },
  {
   "cell_type": "code",
   "execution_count": null,
   "metadata": {},
   "outputs": [],
   "source": [
    "def hex_to_rgb(value):\n",
    "    value = value.lstrip('#')\n",
    "    lv = len(value)\n",
    "    return tuple(int(value[i:i + lv // 3], 16) for i in range(0, lv, lv // 3))\n",
    "print(hex_to_rgb(\"#472D7BFF\"))\n",
    "print(hex_to_rgb(\"#31688EFF\"))\n",
    "print(hex_to_rgb(\"#1F9A8AFF\"))\n",
    "print(hex_to_rgb(\"#5DC863FF\"))\n",
    "print(hex_to_rgb(\"#E3E418FF\"))"
   ]
  },
  {
   "cell_type": "code",
   "execution_count": null,
   "metadata": {},
   "outputs": [],
   "source": [
    "#initial cleaning on data\n",
    "\n",
    "#clean data to remove rows where lat and lon are NaN\n",
    "df = df[np.isfinite(df['latitude']) & np.isfinite(df['longitude'])]"
   ]
  },
  {
   "cell_type": "code",
   "execution_count": null,
   "metadata": {
    "scrolled": true
   },
   "outputs": [],
   "source": [
    "#plot density map on U.S. for number of casualities by long/lat\n",
    "limits = [(0,2),(3,10),(11,20),(21,50),(50,200)]\n",
    "colors = [\"rgb(0,116,217)\",\"rgb(255,65,54)\",\"rgb(133,20,75)\",\"rgb(255,133,27)\",\"lightgrey\"]\n",
    "density_cas = []\n",
    "scale = 1\n",
    "\n",
    "for i in range(len(limits)):\n",
    "    lim = limits[i]\n",
    "    df_sub = df[(df['n_casualties'] >= lim[0]) & (df['n_casualties'] <= lim[1])]\n",
    "    cas = dict(\n",
    "        type = 'scattergeo',\n",
    "        locationmode = 'USA-states',\n",
    "        lon = df_sub['longitude'],\n",
    "        lat = df_sub['latitude'],\n",
    "        text = \"Number of guns involved: \"+str(df_sub['n_guns_involved']),\n",
    "        marker = dict(\n",
    "            size = df_sub['n_casualties']/scale,\n",
    "            # sizeref = 2. * max(df_sub['pop']/scale) / (25 ** 2),\n",
    "            color = colors[i],\n",
    "            line = dict(width=0.5, color='rgb(40,40,40)'),\n",
    "            sizemode = 'area'\n",
    "        ),\n",
    "        name = '{0} - {1}'.format(lim[0],lim[1]) )\n",
    "    density_cas.append(cas)\n",
    "\n",
    "layout = dict(\n",
    "        title = '2013-2018 Gun Violence<br>(Click legend to toggle traces)',\n",
    "        showlegend = True,\n",
    "        geo = dict(\n",
    "            scope='usa',\n",
    "            projection=dict( type='albers usa' ),\n",
    "            showland = True,\n",
    "            landcolor = 'rgb(217, 217, 217)',\n",
    "            subunitwidth=1,\n",
    "            countrywidth=1,\n",
    "            subunitcolor=\"rgb(255, 255, 255)\",\n",
    "            countrycolor=\"rgb(255, 255, 255)\"\n",
    "        ),\n",
    "    )\n",
    "\n",
    "fig = dict(data=density_cas, layout=layout)\n",
    "iplot(fig, show_link=False)"
   ]
  },
  {
   "cell_type": "code",
   "execution_count": null,
   "metadata": {
    "scrolled": true
   },
   "outputs": [],
   "source": [
    "us_state_abbrev = {\n",
    "    'Alabama': 'AL',\n",
    "    'Alaska': 'AK',\n",
    "    'Arizona': 'AZ',\n",
    "    'Arkansas': 'AR',\n",
    "    'California': 'CA',\n",
    "    'Colorado': 'CO',\n",
    "    'Connecticut': 'CT',\n",
    "    'Delaware': 'DE',\n",
    "    'Florida': 'FL',\n",
    "    'Georgia': 'GA',\n",
    "    'Hawaii': 'HI',\n",
    "    'Idaho': 'ID',\n",
    "    'Illinois': 'IL',\n",
    "    'Indiana': 'IN',\n",
    "    'Iowa': 'IA',\n",
    "    'Kansas': 'KS',\n",
    "    'Kentucky': 'KY',\n",
    "    'Louisiana': 'LA',\n",
    "    'Maine': 'ME',\n",
    "    'Maryland': 'MD',\n",
    "    'Massachusetts': 'MA',\n",
    "    'Michigan': 'MI',\n",
    "    'Minnesota': 'MN',\n",
    "    'Mississippi': 'MS',\n",
    "    'Missouri': 'MO',\n",
    "    'Montana': 'MT',\n",
    "    'Nebraska': 'NE',\n",
    "    'Nevada': 'NV',\n",
    "    'New Hampshire': 'NH',\n",
    "    'New Jersey': 'NJ',\n",
    "    'New Mexico': 'NM',\n",
    "    'New York': 'NY',\n",
    "    'North Carolina': 'NC',\n",
    "    'North Dakota': 'ND',\n",
    "    'Ohio': 'OH',\n",
    "    'Oklahoma': 'OK',\n",
    "    'Oregon': 'OR',\n",
    "    'Pennsylvania': 'PA',\n",
    "    'Rhode Island': 'RI',\n",
    "    'South Carolina': 'SC',\n",
    "    'South Dakota': 'SD',\n",
    "    'Tennessee': 'TN',\n",
    "    'Texas': 'TX',\n",
    "    'Utah': 'UT',\n",
    "    'Vermont': 'VT',\n",
    "    'Virginia': 'VA',\n",
    "    'Washington': 'WA',\n",
    "    'West Virginia': 'WV',\n",
    "    'Wisconsin': 'WI',\n",
    "    'Wyoming': 'WY',\n",
    "}"
   ]
  },
  {
   "cell_type": "code",
   "execution_count": null,
   "metadata": {},
   "outputs": [],
   "source": [
    "#aggregate density by state\n",
    "cas_by_state = {}\n",
    "for state, n, k, i in zip(df['state'], df['n_casualties'], df['n_killed'], df['n_injured']):\n",
    "    if state == 'District of Columbia':\n",
    "        continue\n",
    "    if state in cas_by_state:\n",
    "        cas_by_state[state][0] += n\n",
    "        cas_by_state[state][1] += k\n",
    "        cas_by_state[state][2] += i\n",
    "    else:\n",
    "        cas_by_state[state] = [n, k, i]\n",
    "        \n",
    "states = list(cas_by_state.keys())\n",
    "casualties = [item[0] for item in list(cas_by_state.values())]\n",
    "max_cas = max(casualties)\n",
    "\n",
    "df_state = pd.DataFrame(states, columns=['states'])\n",
    "df_state['n_casualties'] = casualties\n",
    "\n",
    "df_state['cas_density'] = df_state.apply(lambda row: row.n_casualties/max_cas, axis=1)\n",
    "df_state['code'] = df_state.apply(lambda row: us_state_abbrev[row.states], axis=1)\n",
    "\n",
    "\n",
    "#get number killed and injured separated by state        \n",
    "killed = [item[1] for item in list(cas_by_state.values())]\n",
    "injured = [item[2] for item in list(cas_by_state.values())]\n",
    "\n",
    "df_state['n_killed'] = killed\n",
    "df_state['n_injured'] = injured\n",
    "        \n",
    "        \n",
    "df_state['text'] = df_state.apply(lambda row: str(row.states) + '<br>' +\\\n",
    "                                  'Killed: '+str(row.n_killed)+\n",
    "                                  ', Injured: '+str(row.n_injured), axis=1)\n",
    "\n",
    "\n",
    "print(df_state.head())"
   ]
  },
  {
   "cell_type": "code",
   "execution_count": null,
   "metadata": {
    "scrolled": true
   },
   "outputs": [],
   "source": [
    "#choropleth map for gun casualties by state\n",
    "\n",
    "scl = [[0.0, 'rgb(242,240,247)'],[0.2, 'rgb(218,218,235)'],[0.4, 'rgb(188,189,220)'],\\\n",
    "            [0.6, 'rgb(158,154,200)'],[0.8, 'rgb(117,107,177)'],[1.0, 'rgb(84,39,143)']]\n",
    "\n",
    "data = [ dict(\n",
    "        type='choropleth',\n",
    "        colorscale = scl,\n",
    "        autocolorscale = False,\n",
    "        locations = df_state['code'],\n",
    "        z = df_state['cas_density'].astype(float),\n",
    "        text = df_state['text'],\n",
    "        locationmode = 'USA-states',\n",
    "        marker = dict(\n",
    "            line = dict (\n",
    "                color = 'rgb(255,255,255)',\n",
    "                width = 2\n",
    "            ) ),\n",
    "        colorbar = dict(\n",
    "            title = \"Casualties ~ max 16231\")\n",
    "        ) ]\n",
    "\n",
    "layout = dict(\n",
    "        title = '2013 US Gun Violence Casualties by State<br>(Hover for breakdown)',\n",
    "        geo = dict(\n",
    "            scope='usa',\n",
    "            projection=dict( type='albers usa' ),\n",
    "            showlakes = True,\n",
    "            lakecolor = 'rgb(255, 255, 255)'),\n",
    "             )\n",
    "    \n",
    "fig = dict( data=data, layout=layout )\n",
    "iplot(fig)"
   ]
  },
  {
   "cell_type": "code",
   "execution_count": null,
   "metadata": {},
   "outputs": [],
   "source": []
  },
  {
   "cell_type": "code",
   "execution_count": null,
   "metadata": {},
   "outputs": [],
   "source": []
  },
  {
   "cell_type": "code",
   "execution_count": null,
   "metadata": {},
   "outputs": [],
   "source": []
  },
  {
   "cell_type": "code",
   "execution_count": null,
   "metadata": {},
   "outputs": [],
   "source": []
  },
  {
   "cell_type": "markdown",
   "metadata": {},
   "source": [
    "## Ethics and Privacy"
   ]
  },
  {
   "cell_type": "markdown",
   "metadata": {},
   "source": [
    "## Dicussion"
   ]
  },
  {
   "cell_type": "markdown",
   "metadata": {},
   "source": [
    "## Moving Forward"
   ]
  },
  {
   "cell_type": "code",
   "execution_count": null,
   "metadata": {},
   "outputs": [],
   "source": []
  },
  {
   "cell_type": "code",
   "execution_count": null,
   "metadata": {},
   "outputs": [],
   "source": []
  }
 ],
 "metadata": {
  "kernelspec": {
   "display_name": "Python 3",
   "language": "python",
   "name": "python3"
  },
  "language_info": {
   "codemirror_mode": {
    "name": "ipython",
    "version": 3
   },
   "file_extension": ".py",
   "mimetype": "text/x-python",
   "name": "python",
   "nbconvert_exporter": "python",
   "pygments_lexer": "ipython3",
   "version": "3.6.0"
  }
 },
 "nbformat": 4,
 "nbformat_minor": 2
}
