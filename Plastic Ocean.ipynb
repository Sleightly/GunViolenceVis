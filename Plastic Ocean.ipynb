{
 "cells": [
  {
   "cell_type": "markdown",
   "metadata": {},
   "source": [
    "# Plastic Ocean\n",
    "\n",
    "##### Team: Edward Chen, Andres Baez\n",
    "\n",
    "## Project Overview:\n",
    "***\n",
    "- Reseach question, hypothesis\n",
    "  - What type of trash is polluting our oceans?\n",
    "  - What do we hope to achieve?\n",
    "- Datasets and Background & Prior Work\n",
    "  - Brief summary of our datasets\n",
    "  - Previous work that have been done using these datasets\n",
    "- Data Cleaning and Analysis\n",
    "  - Plastic data\n",
    "  - Buoy Data\n",
    "- Discussion and Moving Forward\n",
    "- Conclusion and Implications\n",
    "  - What further questions we may have\n",
    "  - How to improve our study\n"
   ]
  },
  {
   "cell_type": "markdown",
   "metadata": {},
   "source": [
    "## Research Question\n",
    "***\n",
    "Short Answer:\n",
    "\n",
    "Long Answer:"
   ]
  },
  {
   "cell_type": "markdown",
   "metadata": {},
   "source": [
    "## Hypothesis\n",
    "***\n",
    "\n",
    "## Datasets:\n",
    "***\n",
    "\n",
    "Dataset Name:\n",
    "\n",
    "Link to dataset:\n",
    "\n",
    "Description: \n",
    "\n",
    "\n",
    "Dataset Name:\n",
    "\n",
    "Link to dataset:\n",
    "\n",
    "Description: \n",
    "\n",
    "\n",
    "Dataset Name:\n",
    "\n",
    "Link to dataset:\n",
    "\n",
    "Description: \n",
    "\n",
    "## Background and Prior Work\n",
    "***\n",
    "\n",
    "## Methods\n",
    "***\n",
    "Data Cleaning:\n",
    "\n",
    "Data Analysis:\n",
    "\n",
    "What to report:"
   ]
  },
  {
   "cell_type": "markdown",
   "metadata": {},
   "source": [
    "#### Data Cleaning and Analysis per Dataset\n",
    "***"
   ]
  },
  {
   "cell_type": "code",
   "execution_count": 3,
   "metadata": {},
   "outputs": [],
   "source": [
    "#import packages "
   ]
  },
  {
   "cell_type": "markdown",
   "metadata": {},
   "source": [
    "## Ethics and Privacy"
   ]
  },
  {
   "cell_type": "markdown",
   "metadata": {},
   "source": [
    "## Dicussion"
   ]
  },
  {
   "cell_type": "markdown",
   "metadata": {},
   "source": [
    "## Moving Forward"
   ]
  }
 ],
 "metadata": {
  "kernelspec": {
   "display_name": "Python 3",
   "language": "python",
   "name": "python3"
  },
  "language_info": {
   "codemirror_mode": {
    "name": "ipython",
    "version": 3
   },
   "file_extension": ".py",
   "mimetype": "text/x-python",
   "name": "python",
   "nbconvert_exporter": "python",
   "pygments_lexer": "ipython3",
   "version": "3.6.0"
  }
 },
 "nbformat": 4,
 "nbformat_minor": 2
}
