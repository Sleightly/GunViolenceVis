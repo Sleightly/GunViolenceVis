{
 "cells": [
  {
   "cell_type": "markdown",
   "metadata": {},
   "source": [
    "# Plastic Ocean\n",
    "\n",
    "##### Team: Edward Chen, Andres Baez\n",
    "\n",
    "## Project Overview:\n",
    "***\n",
    "- Reseach question, hypothesis\n",
    "  - What type of trash is polluting our oceans?\n",
    "  - What do we hope to achieve?\n",
    "- Datasets and Background & Prior Work\n",
    "  - Brief summary of our datasets\n",
    "  - Previous work that have been done using these datasets\n",
    "- Data Cleaning and Analysis\n",
    "  - Plastic data\n",
    "  - Buoy Data\n",
    "- Discussion and Moving Forward\n",
    "- Conclusion and Implications\n",
    "  - What further questions we may have\n",
    "  - How to improve our study\n"
   ]
  },
  {
   "cell_type": "markdown",
   "metadata": {},
   "source": [
    "## Research Question\n",
    "***\n",
    "Short Answer:\n",
    "\n",
    "Long Answer:"
   ]
  },
  {
   "cell_type": "markdown",
   "metadata": {},
   "source": [
    "## Hypothesis\n",
    "***\n",
    "\n",
    "## Datasets:\n",
    "***\n",
    "\n",
    "Dataset Name:\n",
    "\n",
    "Link to dataset:\n",
    "\n",
    "Description: \n",
    "\n",
    "\n",
    "Dataset Name:\n",
    "\n",
    "Link to dataset:\n",
    "\n",
    "Description: \n",
    "\n",
    "\n",
    "Dataset Name:\n",
    "\n",
    "Link to dataset:\n",
    "\n",
    "Description: \n",
    "\n",
    "## Background and Prior Work\n",
    "***\n",
    "\n",
    "## Methods\n",
    "***\n",
    "Data Cleaning:\n",
    "\n",
    "Data Analysis:\n",
    "\n",
    "What to report:"
   ]
  },
  {
   "cell_type": "markdown",
   "metadata": {},
   "source": [
    "#### Data Cleaning and Analysis per Dataset\n",
    "***"
   ]
  },
  {
   "cell_type": "code",
   "execution_count": null,
   "metadata": {},
   "outputs": [],
   "source": [
    "#import packages \n",
    "import numpy as np\n",
    "import pandas as pd\n",
    "from itertools import islice\n",
    "\n",
    "#import packages to plot geo locations\n",
    "import matplotlib.pyplot as plt\n",
    "import seaborn as sns \n",
    "import folium\n",
    "from folium import plugins\n",
    "%matplotlib inline"
   ]
  },
  {
   "cell_type": "code",
   "execution_count": null,
   "metadata": {},
   "outputs": [],
   "source": [
    "#reading 1.3 gb of data is a lot, so let's only read every 100 lines\n",
    "def take(n, iterable):\n",
    "    \"Return first n items of the iterable as a list\"\n",
    "    return list(islice(iterable, n))\n",
    "\n",
    "with open('./buoydata_15001_jun18.dat','r') as f:\n",
    "    data = []\n",
    "    while True:\n",
    "        l = take(100, f)\n",
    "        if l:\n",
    "            l = l[0]\n",
    "            data.append(list(l.split()))\n",
    "            #print(l)\n",
    "        else:\n",
    "            break\n",
    "df = pd.DataFrame(data)\n",
    "df.columns = ['id', 'month', 'day_time', 'year', 'lat', 'long', 'temp', 've', 'vn', 'spd', 'vLat', 'vLong', 'vTemp']"
   ]
  },
  {
   "cell_type": "code",
   "execution_count": null,
   "metadata": {
    "scrolled": true
   },
   "outputs": [],
   "source": [
    "df.columns = ['id', 'month', 'day_time', 'year', 'lat', 'long', 'temp', 've', 'vn', 'spd', 'vLat', 'vLong', 'vTemp']\n",
    "#df = df.sort_values('id', ascending=False)\n",
    "#df = df.sort_values('year', ascending=True)\n",
    "#df = df.sort_values('month', ascending=True)\n",
    "#df = df.sort_values('day_time', ascending=True)\n",
    "#df = df.sort_values(['id','year', 'month', 'day_time'], ascending=[0,1,1,1])\n",
    "df"
   ]
  },
  {
   "cell_type": "code",
   "execution_count": null,
   "metadata": {},
   "outputs": [],
   "source": [
    "#get list of unique id's \n",
    "list_of_ids = df.id.unique()\n"
   ]
  },
  {
   "cell_type": "code",
   "execution_count": null,
   "metadata": {},
   "outputs": [],
   "source": [
    "#create dataframe containing only entries with ID 72615\n",
    "df_id_72615 = df[df['id']== str(72615)]\n",
    "#print(df_id_72615)\n",
    "\n",
    "\n",
    "all_three = zip(df['id'], df['month'], df['year'])\n",
    "#print(all_three)\n",
    "id_m_y = []\n",
    "for i,m,y in all_three:\n",
    "    id_m_y.append(i+'_'+m+'_'+y)\n",
    "#print(id_m_y)\n",
    "\n",
    "se = pd.Series(id_m_y)\n",
    "df['id_m_y'] = se.values\n",
    "#print(df.head())\n",
    "\n",
    "#id_two = []\n",
    "#for i,e in zip(df['id'], id_m_y):\n",
    "#    id_two.append([i,e])\n",
    "    \n",
    "#df_id_m_y = pd.DataFrame(id_two, columns = ['id','id_m_y'])\n",
    "#print(df_id_m_y.head())\n",
    "\n",
    "#df_two = pd.merge(df, df_id_m_y, how='inner')\n",
    "#print(df_two.head())\n",
    "\n",
    "df = df.drop_duplicates(subset='id_m_y', keep=\"last\")\n",
    "#print(df.head())\n",
    "\n",
    "df[\"lat\"] = pd.to_numeric(df[\"lat\"])\n",
    "df[\"long\"] = pd.to_numeric(df[\"long\"])\n",
    "\n",
    "long_max = 270\n",
    "lat_max = 60 \n",
    "long_min = 120\n",
    "lat_min = -40\n",
    "\n",
    "df_regional = df[(df['lat'] <= lat_max) & (df['long'] <= long_max) & (df['lat'] >= lat_min) & (df['long'] >= long_min)]\n",
    "df_regional.head()\n"
   ]
  },
  {
   "cell_type": "code",
   "execution_count": null,
   "metadata": {},
   "outputs": [],
   "source": [
    "s_month = '1'\n",
    "s_year = '2017'\n",
    "\n",
    "df_initial = df_regional[(df_regional['month'] == s_month) & (df_regional['year'] == s_year)]\n",
    "df_initial.head()"
   ]
  },
  {
   "cell_type": "code",
   "execution_count": null,
   "metadata": {},
   "outputs": [],
   "source": [
    "m = folium.Map([lat_min+(lat_max-lat_min)/2, long_min+(long_max-long_min)/2], zoom_start=2)\n",
    "for index, row in df_initial.iterrows():\n",
    "    folium.CircleMarker([float(row['lat']), float(row['long'])],\n",
    "                        radius=1,\n",
    "                        popup=row['id'],\n",
    "                        fill_color=\"#3db7e4\", # divvy color\n",
    "                       ).add_to(m)\n",
    "m"
   ]
  },
  {
   "cell_type": "code",
   "execution_count": null,
   "metadata": {},
   "outputs": [],
   "source": []
  },
  {
   "cell_type": "markdown",
   "metadata": {},
   "source": [
    "## Ethics and Privacy"
   ]
  },
  {
   "cell_type": "markdown",
   "metadata": {},
   "source": [
    "## Dicussion"
   ]
  },
  {
   "cell_type": "markdown",
   "metadata": {},
   "source": [
    "## Moving Forward"
   ]
  },
  {
   "cell_type": "code",
   "execution_count": null,
   "metadata": {},
   "outputs": [],
   "source": []
  },
  {
   "cell_type": "code",
   "execution_count": null,
   "metadata": {},
   "outputs": [],
   "source": []
  }
 ],
 "metadata": {
  "kernelspec": {
   "display_name": "Python 3",
   "language": "python",
   "name": "python3"
  },
  "language_info": {
   "codemirror_mode": {
    "name": "ipython",
    "version": 3
   },
   "file_extension": ".py",
   "mimetype": "text/x-python",
   "name": "python",
   "nbconvert_exporter": "python",
   "pygments_lexer": "ipython3",
   "version": "3.6.0"
  }
 },
 "nbformat": 4,
 "nbformat_minor": 2
}
